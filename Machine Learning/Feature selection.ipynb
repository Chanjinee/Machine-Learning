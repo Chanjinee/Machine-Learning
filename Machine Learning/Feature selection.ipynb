{
 "cells": [
  {
   "cell_type": "markdown",
   "id": "583cf95e",
   "metadata": {},
   "source": [
    "*Feature selection*\n",
    "- 주어진 Feature 중, 최적의 조합을 찾는 방식"
   ]
  },
  {
   "cell_type": "code",
   "execution_count": 1,
   "id": "ff993949",
   "metadata": {},
   "outputs": [],
   "source": [
    "# 모듈 불러오기\n",
    "import pandas as pd\n",
    "import numpy as np\n",
    "import matplotlib.pyplot as plt\n",
    "from tqdm import tqdm\n",
    "\n",
    "# Waeing\n",
    "import sys, warnings\n",
    "if not sys.warnoptions: warnings.simplefilter(\"ignore\")\n",
    "    \n",
    "    \n",
    "from sklearn.model_selection import train_test_split\n",
    "from sklearn.tree import DecisionTreeClassifier\n",
    "from sklearn.feature_selection import SelectPercentile\n",
    "from sklearn.model_selection import cross_val_score\n",
    "from sklearn.ensemble import RandomForestClassifier\n",
    "from sklearn.metrics import accuracy_score\n",
    "\n",
    "#matplotlib 한글깨짐 지원\n",
    "import platform\n",
    "from matplotlib import font_manager, rc\n",
    "path = \"c:/Windows/Fonts/malgun.ttf\"\n",
    "if platform.system() == 'Darwin':\n",
    "    rc('font', family='AppleGothic')\n",
    "elif platform.system() == 'Windows':\n",
    "    font_name = font_manager.FontProperties(fname=path).get_name()\n",
    "    rc('font', family=font_name)\n",
    "else:\n",
    "    print('Unknown system...')\n",
    "rc('axes', unicode_minus=False)"
   ]
  },
  {
   "cell_type": "markdown",
   "id": "c91b08e6",
   "metadata": {},
   "source": [
    "- 데이터 불러오기"
   ]
  },
  {
   "cell_type": "code",
   "execution_count": 2,
   "id": "de8eef85",
   "metadata": {},
   "outputs": [
    {
     "data": {
      "text/html": [
       "<div>\n",
       "<style scoped>\n",
       "    .dataframe tbody tr th:only-of-type {\n",
       "        vertical-align: middle;\n",
       "    }\n",
       "\n",
       "    .dataframe tbody tr th {\n",
       "        vertical-align: top;\n",
       "    }\n",
       "\n",
       "    .dataframe thead th {\n",
       "        text-align: right;\n",
       "    }\n",
       "</style>\n",
       "<table border=\"1\" class=\"dataframe\">\n",
       "  <thead>\n",
       "    <tr style=\"text-align: right;\">\n",
       "      <th></th>\n",
       "      <th>Pclass</th>\n",
       "      <th>Name</th>\n",
       "      <th>Sex</th>\n",
       "      <th>Age</th>\n",
       "      <th>SibSp</th>\n",
       "      <th>Parch</th>\n",
       "      <th>Ticket</th>\n",
       "      <th>Fare</th>\n",
       "      <th>Cabin</th>\n",
       "      <th>Embarked</th>\n",
       "    </tr>\n",
       "    <tr>\n",
       "      <th>PassengerId</th>\n",
       "      <th></th>\n",
       "      <th></th>\n",
       "      <th></th>\n",
       "      <th></th>\n",
       "      <th></th>\n",
       "      <th></th>\n",
       "      <th></th>\n",
       "      <th></th>\n",
       "      <th></th>\n",
       "      <th></th>\n",
       "    </tr>\n",
       "  </thead>\n",
       "  <tbody>\n",
       "    <tr>\n",
       "      <th>1</th>\n",
       "      <td>3</td>\n",
       "      <td>Braund, Mr. Owen Harris</td>\n",
       "      <td>male</td>\n",
       "      <td>22.0</td>\n",
       "      <td>1</td>\n",
       "      <td>0</td>\n",
       "      <td>A/5 21171</td>\n",
       "      <td>7.2500</td>\n",
       "      <td>NaN</td>\n",
       "      <td>S</td>\n",
       "    </tr>\n",
       "    <tr>\n",
       "      <th>2</th>\n",
       "      <td>1</td>\n",
       "      <td>Cumings, Mrs. John Bradley (Florence Briggs Th...</td>\n",
       "      <td>female</td>\n",
       "      <td>38.0</td>\n",
       "      <td>1</td>\n",
       "      <td>0</td>\n",
       "      <td>PC 17599</td>\n",
       "      <td>71.2833</td>\n",
       "      <td>C85</td>\n",
       "      <td>C</td>\n",
       "    </tr>\n",
       "    <tr>\n",
       "      <th>3</th>\n",
       "      <td>3</td>\n",
       "      <td>Heikkinen, Miss. Laina</td>\n",
       "      <td>female</td>\n",
       "      <td>26.0</td>\n",
       "      <td>0</td>\n",
       "      <td>0</td>\n",
       "      <td>STON/O2. 3101282</td>\n",
       "      <td>7.9250</td>\n",
       "      <td>NaN</td>\n",
       "      <td>S</td>\n",
       "    </tr>\n",
       "    <tr>\n",
       "      <th>4</th>\n",
       "      <td>1</td>\n",
       "      <td>Futrelle, Mrs. Jacques Heath (Lily May Peel)</td>\n",
       "      <td>female</td>\n",
       "      <td>35.0</td>\n",
       "      <td>1</td>\n",
       "      <td>0</td>\n",
       "      <td>113803</td>\n",
       "      <td>53.1000</td>\n",
       "      <td>C123</td>\n",
       "      <td>S</td>\n",
       "    </tr>\n",
       "    <tr>\n",
       "      <th>5</th>\n",
       "      <td>3</td>\n",
       "      <td>Allen, Mr. William Henry</td>\n",
       "      <td>male</td>\n",
       "      <td>35.0</td>\n",
       "      <td>0</td>\n",
       "      <td>0</td>\n",
       "      <td>373450</td>\n",
       "      <td>8.0500</td>\n",
       "      <td>NaN</td>\n",
       "      <td>S</td>\n",
       "    </tr>\n",
       "    <tr>\n",
       "      <th>...</th>\n",
       "      <td>...</td>\n",
       "      <td>...</td>\n",
       "      <td>...</td>\n",
       "      <td>...</td>\n",
       "      <td>...</td>\n",
       "      <td>...</td>\n",
       "      <td>...</td>\n",
       "      <td>...</td>\n",
       "      <td>...</td>\n",
       "      <td>...</td>\n",
       "    </tr>\n",
       "    <tr>\n",
       "      <th>887</th>\n",
       "      <td>2</td>\n",
       "      <td>Montvila, Rev. Juozas</td>\n",
       "      <td>male</td>\n",
       "      <td>27.0</td>\n",
       "      <td>0</td>\n",
       "      <td>0</td>\n",
       "      <td>211536</td>\n",
       "      <td>13.0000</td>\n",
       "      <td>NaN</td>\n",
       "      <td>S</td>\n",
       "    </tr>\n",
       "    <tr>\n",
       "      <th>888</th>\n",
       "      <td>1</td>\n",
       "      <td>Graham, Miss. Margaret Edith</td>\n",
       "      <td>female</td>\n",
       "      <td>19.0</td>\n",
       "      <td>0</td>\n",
       "      <td>0</td>\n",
       "      <td>112053</td>\n",
       "      <td>30.0000</td>\n",
       "      <td>B42</td>\n",
       "      <td>S</td>\n",
       "    </tr>\n",
       "    <tr>\n",
       "      <th>889</th>\n",
       "      <td>3</td>\n",
       "      <td>Johnston, Miss. Catherine Helen \"Carrie\"</td>\n",
       "      <td>female</td>\n",
       "      <td>NaN</td>\n",
       "      <td>1</td>\n",
       "      <td>2</td>\n",
       "      <td>W./C. 6607</td>\n",
       "      <td>23.4500</td>\n",
       "      <td>NaN</td>\n",
       "      <td>S</td>\n",
       "    </tr>\n",
       "    <tr>\n",
       "      <th>890</th>\n",
       "      <td>1</td>\n",
       "      <td>Behr, Mr. Karl Howell</td>\n",
       "      <td>male</td>\n",
       "      <td>26.0</td>\n",
       "      <td>0</td>\n",
       "      <td>0</td>\n",
       "      <td>111369</td>\n",
       "      <td>30.0000</td>\n",
       "      <td>C148</td>\n",
       "      <td>C</td>\n",
       "    </tr>\n",
       "    <tr>\n",
       "      <th>891</th>\n",
       "      <td>3</td>\n",
       "      <td>Dooley, Mr. Patrick</td>\n",
       "      <td>male</td>\n",
       "      <td>32.0</td>\n",
       "      <td>0</td>\n",
       "      <td>0</td>\n",
       "      <td>370376</td>\n",
       "      <td>7.7500</td>\n",
       "      <td>NaN</td>\n",
       "      <td>Q</td>\n",
       "    </tr>\n",
       "  </tbody>\n",
       "</table>\n",
       "<p>891 rows × 10 columns</p>\n",
       "</div>"
      ],
      "text/plain": [
       "             Pclass                                               Name  \\\n",
       "PassengerId                                                              \n",
       "1                 3                            Braund, Mr. Owen Harris   \n",
       "2                 1  Cumings, Mrs. John Bradley (Florence Briggs Th...   \n",
       "3                 3                             Heikkinen, Miss. Laina   \n",
       "4                 1       Futrelle, Mrs. Jacques Heath (Lily May Peel)   \n",
       "5                 3                           Allen, Mr. William Henry   \n",
       "...             ...                                                ...   \n",
       "887               2                              Montvila, Rev. Juozas   \n",
       "888               1                       Graham, Miss. Margaret Edith   \n",
       "889               3           Johnston, Miss. Catherine Helen \"Carrie\"   \n",
       "890               1                              Behr, Mr. Karl Howell   \n",
       "891               3                                Dooley, Mr. Patrick   \n",
       "\n",
       "                Sex   Age  SibSp  Parch            Ticket     Fare Cabin  \\\n",
       "PassengerId                                                                \n",
       "1              male  22.0      1      0         A/5 21171   7.2500   NaN   \n",
       "2            female  38.0      1      0          PC 17599  71.2833   C85   \n",
       "3            female  26.0      0      0  STON/O2. 3101282   7.9250   NaN   \n",
       "4            female  35.0      1      0            113803  53.1000  C123   \n",
       "5              male  35.0      0      0            373450   8.0500   NaN   \n",
       "...             ...   ...    ...    ...               ...      ...   ...   \n",
       "887            male  27.0      0      0            211536  13.0000   NaN   \n",
       "888          female  19.0      0      0            112053  30.0000   B42   \n",
       "889          female   NaN      1      2        W./C. 6607  23.4500   NaN   \n",
       "890            male  26.0      0      0            111369  30.0000  C148   \n",
       "891            male  32.0      0      0            370376   7.7500   NaN   \n",
       "\n",
       "            Embarked  \n",
       "PassengerId           \n",
       "1                  S  \n",
       "2                  C  \n",
       "3                  S  \n",
       "4                  S  \n",
       "5                  S  \n",
       "...              ...  \n",
       "887                S  \n",
       "888                S  \n",
       "889                S  \n",
       "890                C  \n",
       "891                Q  \n",
       "\n",
       "[891 rows x 10 columns]"
      ]
     },
     "execution_count": 2,
     "metadata": {},
     "output_type": "execute_result"
    }
   ],
   "source": [
    "# 데이터 불러오기\n",
    "path = './datasets/titanic/'\n",
    "train = pd.read_csv(path+'train.csv', index_col='PassengerId').iloc[:,1:] # `PassengerId` 열을 인덱스 열로 지정\n",
    "train_y = pd.read_csv(path+'train.csv', index_col='PassengerId').iloc[:,0] # `PassengerId` 열을 인덱스 열로 지정\n",
    "\n",
    "test = pd.read_csv(path+'test.csv', index_col='PassengerId')\n",
    "\n",
    "train"
   ]
  },
  {
   "cell_type": "code",
   "execution_count": 3,
   "id": "6fb7190f",
   "metadata": {},
   "outputs": [
    {
     "name": "stdout",
     "output_type": "stream",
     "text": [
      "<class 'pandas.core.frame.DataFrame'>\n",
      "Int64Index: 891 entries, 1 to 891\n",
      "Data columns (total 10 columns):\n",
      " #   Column    Non-Null Count  Dtype  \n",
      "---  ------    --------------  -----  \n",
      " 0   Pclass    891 non-null    int64  \n",
      " 1   Name      891 non-null    object \n",
      " 2   Sex       891 non-null    object \n",
      " 3   Age       714 non-null    float64\n",
      " 4   SibSp     891 non-null    int64  \n",
      " 5   Parch     891 non-null    int64  \n",
      " 6   Ticket    891 non-null    object \n",
      " 7   Fare      891 non-null    float64\n",
      " 8   Cabin     204 non-null    object \n",
      " 9   Embarked  889 non-null    object \n",
      "dtypes: float64(2), int64(3), object(5)\n",
      "memory usage: 76.6+ KB\n"
     ]
    }
   ],
   "source": [
    "# 대략적인 데이터 확인 -> 결측치가 환불금액만 있음\n",
    "train.info()"
   ]
  },
  {
   "cell_type": "markdown",
   "id": "d876ca02",
   "metadata": {},
   "source": [
    "- 간단한 전처리"
   ]
  },
  {
   "cell_type": "code",
   "execution_count": 4,
   "id": "d388440a",
   "metadata": {},
   "outputs": [],
   "source": [
    "# encoder 함수 지정\n",
    "def encoder(data, kind):\n",
    "    # 범주형 변수와 수치형 변수를 분리\n",
    "    cat_features = data.select_dtypes(include=['object']).columns.to_list()\n",
    "    num_features = data.select_dtypes(exclude='object').columns.to_list() \n",
    "    if kind == 'onehot':\n",
    "        # 원핫인코딩\n",
    "        data_cat = pd.get_dummies(data[cat_features])\n",
    "        data = pd.concat([data,data_cat],axis=1).drop(columns=[f for f in cat_features])\n",
    "        return data\n",
    "    elif kind == 'label':\n",
    "        # 라벨인코딩\n",
    "        for c in cat_features:\n",
    "            data[c]=pd.Categorical(data[c]).codes\n",
    "        return data\n",
    "    else:\n",
    "        print('choose \"onehot\"or \"label\"')\n",
    "# 인코딩\n",
    "train = encoder(train, 'label')\n",
    "test = encoder(test, 'label')"
   ]
  },
  {
   "cell_type": "code",
   "execution_count": 5,
   "id": "906ce84a",
   "metadata": {},
   "outputs": [],
   "source": [
    "# 간단한 결측값 처리\n",
    "## train\n",
    "train['Age'] = train['Age'].fillna(train['Age'].mode()[0])\n",
    "## test\n",
    "test['Age'] = test['Age'].fillna(test['Age'].mode()[0])\n",
    "test['Fare'] = test['Fare'].fillna(test['Fare'].mode()[0])"
   ]
  },
  {
   "cell_type": "code",
   "execution_count": 6,
   "id": "14b88b7e",
   "metadata": {},
   "outputs": [],
   "source": [
    "# 데이터를 학습과 검증으로 분리\n",
    "x_train, x_valid, y_train, y_valid = train_test_split(train, train_y, test_size=0.2, random_state=0)"
   ]
  },
  {
   "cell_type": "markdown",
   "id": "7297970a",
   "metadata": {},
   "source": [
    "- 모든 피처를 사용하여 기본 모델의 성능을 확인"
   ]
  },
  {
   "cell_type": "code",
   "execution_count": 7,
   "id": "367cd33c",
   "metadata": {},
   "outputs": [
    {
     "name": "stdout",
     "output_type": "stream",
     "text": [
      "random_forest: 0.8603351955307262\n"
     ]
    }
   ],
   "source": [
    "# 모델 선언\n",
    "random_forest = RandomForestClassifier(n_estimators=100, random_state=0)\n",
    "\n",
    "# fitting\n",
    "random_forest.fit(x_train, y_train)\n",
    "\n",
    "# 예측값\n",
    "y_pred = random_forest.predict(x_valid)\n",
    "\n",
    "# 확인\n",
    "print(f'random_forest: {accuracy_score(y_valid, y_pred)}')"
   ]
  },
  {
   "cell_type": "markdown",
   "id": "ad5274d2",
   "metadata": {},
   "source": [
    "## SelectPercentile\n",
    "- 전체 데이터를 기준으로 하여 얼마만큼의 비율로 피쳐를 사용할지 결정"
   ]
  },
  {
   "cell_type": "code",
   "execution_count": 8,
   "id": "bfe0375f",
   "metadata": {
    "scrolled": false
   },
   "outputs": [
    {
     "name": "stderr",
     "output_type": "stream",
     "text": [
      "100%|██████████████████████████████████████████████████████████████████████████████████| 99/99 [00:01<00:00, 80.82it/s]\n"
     ]
    },
    {
     "name": "stdout",
     "output_type": "stream",
     "text": [
      "(1, 0.7865261499064315)\n"
     ]
    },
    {
     "data": {
      "image/png": "[encoded data removed]",
      "text/plain": [
       "<Figure size 432x288 with 1 Axes>"
      ]
     },
     "metadata": {
      "needs_background": "light"
     },
     "output_type": "display_data"
    }
   ],
   "source": [
    "# 사용할 모델 설정 (속도가 빠른 모델 사용 권장)\n",
    "model = DecisionTreeClassifier(random_state=0)\n",
    "\n",
    "# 각 특성과 타깃(class) 사이에 유의한 통계적 관계가 있는지 계산하여 특성을 선택하는 방법 \n",
    "cv_scores = []\n",
    "for p in tqdm(range(1,100,1)):\n",
    "    X_new = SelectPercentile(percentile=p).fit_transform(x_train, y_train)    \n",
    "    cv_score = cross_val_score(model, X_new, y_train, scoring='accuracy', cv=5).mean()\n",
    "    cv_scores.append((p,cv_score))\n",
    "\n",
    "# Print the best percentile\n",
    "best_score = cv_scores[np.argmax([score for _, score in cv_scores])]\n",
    "print(best_score)\n",
    "\n",
    "# Plot the performance change with p\n",
    "plt.plot([k for k, _ in cv_scores], [score for _, score in cv_scores])\n",
    "plt.xlabel('Percent of features')\n",
    "plt.grid()"
   ]
  },
  {
   "cell_type": "code",
   "execution_count": 9,
   "id": "34ee0e61",
   "metadata": {},
   "outputs": [
    {
     "name": "stdout",
     "output_type": "stream",
     "text": [
      "(891, 1)\n"
     ]
    }
   ],
   "source": [
    "# 과적합을 피하기 위해 최적의 p값 주변의 값을 선택하는게 더 나은 결과를 얻을 수 있다. \n",
    "fs = SelectPercentile(percentile=best_score[0]).fit(train, train_y)\n",
    "train_percentile = fs.transform(train)\n",
    "test_percentile = fs.transform(test)\n",
    "\n",
    "print(train_percentile.shape)"
   ]
  },
  {
   "cell_type": "markdown",
   "id": "8061e46f",
   "metadata": {},
   "source": [
    "- 검증 데이터를 사용하여 점수 확인"
   ]
  },
  {
   "cell_type": "code",
   "execution_count": 10,
   "id": "560ca8d5",
   "metadata": {},
   "outputs": [],
   "source": [
    "# 데이터를 학습과 검증으로 분리\n",
    "x_train, x_valid, y_train, y_valid = train_test_split(train_percentile, train_y, test_size=0.2, random_state=0)"
   ]
  },
  {
   "cell_type": "code",
   "execution_count": 26,
   "id": "b2a34689",
   "metadata": {},
   "outputs": [
    {
     "name": "stdout",
     "output_type": "stream",
     "text": [
      "SelectPercentile score: 0.8547486033519553\n"
     ]
    }
   ],
   "source": [
    "# 모델 선언\n",
    "random_forest = RandomForestClassifier(n_estimators=100, random_state=0)\n",
    "# fitting\n",
    "random_forest.fit(x_train, y_train)\n",
    "# 예측값\n",
    "y_pred = random_forest.predict(x_valid)\n",
    "\n",
    "# 확인\n",
    "print(f'SelectPercentile score: {accuracy_score(y_valid, y_pred)}')"
   ]
  },
  {
   "cell_type": "markdown",
   "id": "1cd63bfb",
   "metadata": {},
   "source": [
    "## SelectFromModel\n",
    "- Feature importance에 기반을 두고 thereshold 값에 따른 방식\n",
    "- threhold의 default는 mean임\n",
    "\n",
    "> 모델기반 Feature Selection\n",
    ">> - 지도 학습 머신러닝 모델을 사용하여 특성의 중요도를 평가해서 가장 중요한 특성들만 선택\n",
    ">> - 특성 선택에 사용하는 지도 학습 모델은 각 특성의 중요도가 담겨 있는 feature_importances_ 속성을 제공"
   ]
  },
  {
   "cell_type": "code",
   "execution_count": 12,
   "id": "a2a6bde2",
   "metadata": {},
   "outputs": [
    {
     "name": "stdout",
     "output_type": "stream",
     "text": [
      "X_train_l1.shape : (891, 5)\n"
     ]
    }
   ],
   "source": [
    "from sklearn.datasets import load_breast_cancer\n",
    "from sklearn.preprocessing import StandardScaler\n",
    "from sklearn.feature_selection import SelectFromModel\n",
    "\n",
    "# rf모델을 사용하여 피처를 선택\n",
    "select = SelectFromModel(RandomForestClassifier(n_estimators=100, random_state=0), threshold=\"median\") # threshold: 임계치, 중요도가 이 값보다 큰 특성을 선택 / 숫자로도 지정 가능\n",
    "select.fit(train, train_y)\n",
    "\n",
    "X_train_l1 = select.transform(train)\n",
    "\n",
    "# 최종적으로 줄어든 피처의 갯수 확인\n",
    "print(\"X_train_l1.shape : {}\".format(X_train_l1.shape))"
   ]
  },
  {
   "cell_type": "markdown",
   "id": "08273925",
   "metadata": {},
   "source": [
    "- 검증 데이터를 사용하여 점수 확인"
   ]
  },
  {
   "cell_type": "code",
   "execution_count": 13,
   "id": "7133e737",
   "metadata": {},
   "outputs": [],
   "source": [
    "# 데이터를 학습과 검증으로 분리\n",
    "x_train, x_valid, y_train, y_valid = train_test_split(X_train_l1, train_y, test_size=0.2, random_state=0)"
   ]
  },
  {
   "cell_type": "code",
   "execution_count": 14,
   "id": "ccd3ab8d",
   "metadata": {},
   "outputs": [
    {
     "name": "stdout",
     "output_type": "stream",
     "text": [
      "SelectFromModel score: 0.8491620111731844\n"
     ]
    }
   ],
   "source": [
    "# 모델 선언\n",
    "random_forest = RandomForestClassifier(n_estimators=100, random_state=0)\n",
    "# fitting\n",
    "random_forest.fit(x_train, y_train)\n",
    "# 예측값\n",
    "y_pred = random_forest.predict(x_valid)\n",
    "\n",
    "# 확인\n",
    "print(f'SelectFromModel score: {accuracy_score(y_valid, y_pred)}')"
   ]
  },
  {
   "cell_type": "markdown",
   "id": "312a7b36",
   "metadata": {},
   "source": [
    "## RFE(Recursive Feature Elimination)\n",
    "- 모든 특성으로 시작해서 모델을 만들고 특성 중요도(feature importance)가 가장 낮은 특성을 제거\n",
    "- 이후 제거한 특성을 빼고 나머지 특성 전체로 새로운 모델생성\n",
    "- 위의 방법을 지정한 특성 개수가 남을 때까지 반복(recursive)\n",
    "- 후진제거법\n",
    "\n",
    "> 단점\n",
    "> - 사용자가 직접 특성의 갯수를 선정해줘야 한다는 단점이 있음\n",
    "> - 데이터의 크기가 크면 시간이 오래 걸리기 때문에 크기가 작은 데이터셋에 사용하기에 적합함"
   ]
  },
  {
   "cell_type": "code",
   "execution_count": 15,
   "id": "244cc5cb",
   "metadata": {},
   "outputs": [],
   "source": [
    "from sklearn.feature_selection import RFE"
   ]
  },
  {
   "cell_type": "code",
   "execution_count": 16,
   "id": "bb3dc73d",
   "metadata": {},
   "outputs": [
    {
     "data": {
      "text/plain": [
       "Index(['Name', 'Sex', 'Age', 'Ticket', 'Fare'], dtype='object')"
      ]
     },
     "execution_count": 16,
     "metadata": {},
     "output_type": "execute_result"
    }
   ],
   "source": [
    "# Selecting the Best important features according to RandomForestClassifier\n",
    "rfe_selector = RFE(estimator=RandomForestClassifier(n_estimators=100, random_state=0), n_features_to_select = 5, step = 1)\n",
    "rfe_selector.fit(train, train_y)\n",
    "\n",
    "# 선택된 특성들\n",
    "train.columns[rfe_selector.get_support()]"
   ]
  },
  {
   "cell_type": "code",
   "execution_count": 17,
   "id": "f2e24d34",
   "metadata": {},
   "outputs": [],
   "source": [
    "# 선택된 특성들을 데이터로\n",
    "train_RFE = train[list(train.columns[rfe_selector.get_support()])]"
   ]
  },
  {
   "cell_type": "markdown",
   "id": "6444c897",
   "metadata": {},
   "source": [
    "- 검증 데이터를 사용하여 점수 확인"
   ]
  },
  {
   "cell_type": "code",
   "execution_count": 18,
   "id": "bd7ca35d",
   "metadata": {},
   "outputs": [],
   "source": [
    "# 데이터를 학습과 검증으로 분리\n",
    "x_train, x_valid, y_train, y_valid = train_test_split(train_RFE, train_y, test_size=0.2, random_state=0)"
   ]
  },
  {
   "cell_type": "code",
   "execution_count": 19,
   "id": "8d6d3978",
   "metadata": {},
   "outputs": [
    {
     "name": "stdout",
     "output_type": "stream",
     "text": [
      "RFE score: 0.8491620111731844\n"
     ]
    }
   ],
   "source": [
    "# 모델 선언\n",
    "random_forest = RandomForestClassifier(n_estimators=100, random_state=0)\n",
    "# fitting\n",
    "random_forest.fit(x_train, y_train)\n",
    "# 예측값\n",
    "y_pred = random_forest.predict(x_valid)\n",
    "\n",
    "# 확인\n",
    "print(f'RFE score: {accuracy_score(y_valid, y_pred)}')"
   ]
  },
  {
   "cell_type": "markdown",
   "id": "213007a7",
   "metadata": {},
   "source": [
    "## RFECV(Recursive Feature Elimination with Cross Validation)\n",
    "- RFE의 가장 큰 단점은 사용자가 직접 몇개의 특성을 남길지 지정해야한다는 점이었는데, \n",
    "- RFECV는 K-fold cross validation을 사용하여 각기 다른 결과를 도출함\n",
    "- 이렇게 도출된 결과들의 평균으로 최종 특성을 선택"
   ]
  },
  {
   "cell_type": "code",
   "execution_count": 20,
   "id": "76400b0a",
   "metadata": {},
   "outputs": [],
   "source": [
    "from sklearn.model_selection import StratifiedKFold\n",
    "from sklearn.feature_selection import RFECV"
   ]
  },
  {
   "cell_type": "code",
   "execution_count": 21,
   "id": "9fbe9d61",
   "metadata": {},
   "outputs": [
    {
     "name": "stdout",
     "output_type": "stream",
     "text": [
      "Optimal number of features : 7\n"
     ]
    }
   ],
   "source": [
    "# 모델 선언\n",
    "random_forest = RandomForestClassifier(n_estimators=100, random_state=0)\n",
    "\n",
    "min_features_to_select = 1  # 고려되어야할 최소 특성의 갯수\n",
    "rfecv = RFECV(\n",
    "    estimator=random_forest,\n",
    "    step=1,\n",
    "    cv=StratifiedKFold(2),\n",
    "    scoring=\"accuracy\",\n",
    "    min_features_to_select=min_features_to_select,\n",
    ")\n",
    "rfecv.fit(train, train_y)\n",
    "\n",
    "print(\"Optimal number of features : %d\" % rfecv.n_features_)"
   ]
  },
  {
   "cell_type": "code",
   "execution_count": 22,
   "id": "b54a0f84",
   "metadata": {},
   "outputs": [
    {
     "data": {
      "image/png": "[encoded data removed]",
      "text/plain": [
       "<Figure size 432x288 with 1 Axes>"
      ]
     },
     "metadata": {
      "needs_background": "light"
     },
     "output_type": "display_data"
    }
   ],
   "source": [
    "# 선택된 특성과 score를 그래프로 표현 / 그래프의 갯수는 k-flod 의 k 값\n",
    "# Plot number of features VS. cross-validation scores\n",
    "plt.figure()\n",
    "plt.xlabel(\"Number of features selected\")\n",
    "plt.ylabel(\"Cross validation score (accuracy)\")\n",
    "plt.plot(\n",
    "    range(min_features_to_select, len(rfecv.grid_scores_) + min_features_to_select),\n",
    "    rfecv.grid_scores_,\n",
    ")\n",
    "plt.show()"
   ]
  },
  {
   "cell_type": "code",
   "execution_count": 23,
   "id": "8a63c590",
   "metadata": {},
   "outputs": [],
   "source": [
    "# 선택된 특성들을 데이터로\n",
    "train_RFECV = train[list(train.columns[rfecv.get_support()])]"
   ]
  },
  {
   "cell_type": "markdown",
   "id": "b0306211",
   "metadata": {},
   "source": [
    "- 검증 데이터를 사용하여 점수 확인"
   ]
  },
  {
   "cell_type": "code",
   "execution_count": 24,
   "id": "2a8313e5",
   "metadata": {},
   "outputs": [],
   "source": [
    "# 데이터를 학습과 검증으로 분리\n",
    "x_train, x_valid, y_train, y_valid = train_test_split(train_RFECV, train_y, test_size=0.2, random_state=0)"
   ]
  },
  {
   "cell_type": "code",
   "execution_count": 25,
   "id": "5083dbb1",
   "metadata": {},
   "outputs": [
    {
     "name": "stdout",
     "output_type": "stream",
     "text": [
      "RFECV score: 0.8547486033519553\n"
     ]
    }
   ],
   "source": [
    "# 모델 선언\n",
    "random_forest = RandomForestClassifier(n_estimators=100, random_state=0)\n",
    "# fitting\n",
    "random_forest.fit(x_train, y_train)\n",
    "# 예측값\n",
    "y_pred = random_forest.predict(x_valid)\n",
    "\n",
    "# 확인\n",
    "print(f'RFECV score: {accuracy_score(y_valid, y_pred)}')"
   ]
  },
  {
   "cell_type": "markdown",
   "id": "f7df0e7b",
   "metadata": {},
   "source": [
    "# END"
   ]
  }
 ],
 "metadata": {
  "kernelspec": {
   "display_name": "ML",
   "language": "python",
   "name": "ml"
  },
  "language_info": {
   "codemirror_mode": {
    "name": "ipython",
    "version": 3
   },
   "file_extension": ".py",
   "mimetype": "text/x-python",
   "name": "python",
   "nbconvert_exporter": "python",
   "pygments_lexer": "ipython3",
   "version": "3.8.11"
  }
 },
 "nbformat": 4,
 "nbformat_minor": 5
}
